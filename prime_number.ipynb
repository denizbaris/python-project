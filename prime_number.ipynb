{
  "nbformat": 4,
  "nbformat_minor": 0,
  "metadata": {
    "colab": {
      "name": "prime number.ipynb",
      "provenance": [],
      "collapsed_sections": []
    },
    "kernelspec": {
      "name": "python3",
      "display_name": "Python 3"
    },
    "language_info": {
      "name": "python"
    }
  },
  "cells": [
    {
      "cell_type": "code",
      "metadata": {
        "colab": {
          "base_uri": "https://localhost:8080/"
        },
        "id": "w0VzNy9duqGK",
        "outputId": "98e27a77-e04a-4012-f03f-04392ff7828b"
      },
      "source": [
        "\n",
        "\n",
        "num = 19\n",
        "\n",
        "if num > 1:\n",
        "\tfor i in range(2, int(num/2)+1):\n",
        "\t\tif (num % i) == 0:\n",
        "\t\t\tprint(num, \"is not a prime number\")\n",
        "\t\t\tbreak\n",
        "\telse:\n",
        "\t\tprint(num, \"is a prime number\")\n",
        "else:\n",
        "\tprint(num, \"is not a prime number\")\n"
      ],
      "execution_count": 4,
      "outputs": [
        {
          "output_type": "stream",
          "text": [
            "19 is a prime number\n"
          ],
          "name": "stdout"
        }
      ]
    },
    {
      "cell_type": "code",
      "metadata": {
        "id": "27TORcRquqlJ"
      },
      "source": [
        ""
      ],
      "execution_count": null,
      "outputs": []
    }
  ]
}