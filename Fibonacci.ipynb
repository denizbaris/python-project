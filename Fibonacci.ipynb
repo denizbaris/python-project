{
  "nbformat": 4,
  "nbformat_minor": 0,
  "metadata": {
    "colab": {
      "name": "Untitled11.ipynb",
      "provenance": [],
      "collapsed_sections": []
    },
    "kernelspec": {
      "name": "python3",
      "display_name": "Python 3"
    },
    "language_info": {
      "name": "python"
    }
  },
  "cells": [
    {
      "cell_type": "code",
      "metadata": {
        "colab": {
          "base_uri": "https://localhost:8080/"
        },
        "id": "PfGWy9arvX8s",
        "outputId": "99f38880-1318-453a-cc85-e6c8cdc8ffd9"
      },
      "source": [
        "fibonacci = [1]\n",
        "x,y = 0,1\n",
        "\n",
        "while max(fibonacci) < 55 :\n",
        "  fibonacci.append(x+y)\n",
        "  x,y = y, (x+y)\n",
        "\n",
        "print(fibonacci)  "
      ],
      "execution_count": 6,
      "outputs": [
        {
          "output_type": "stream",
          "text": [
            "[1, 1, 2, 3, 5, 8, 13, 21, 34, 55]\n"
          ],
          "name": "stdout"
        }
      ]
    },
    {
      "cell_type": "code",
      "metadata": {
        "id": "82j-D5AKwXLY"
      },
      "source": [
        ""
      ],
      "execution_count": null,
      "outputs": []
    }
  ]
}